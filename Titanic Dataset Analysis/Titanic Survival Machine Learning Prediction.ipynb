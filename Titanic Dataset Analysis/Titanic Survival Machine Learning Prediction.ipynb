{
 "cells": [
  {
   "cell_type": "code",
   "execution_count": 1,
   "metadata": {},
   "outputs": [],
   "source": [
    "import pandas as pd\n",
    "import numpy as np \n",
    "import matplotlib.pyplot as plt\n",
    "import seaborn as sns\n",
    "import warnings \n",
    "warnings.filterwarnings('ignore')"
   ]
  },
  {
   "cell_type": "code",
   "execution_count": 65,
   "metadata": {},
   "outputs": [
    {
     "data": {
      "text/html": [
       "<div>\n",
       "<style scoped>\n",
       "    .dataframe tbody tr th:only-of-type {\n",
       "        vertical-align: middle;\n",
       "    }\n",
       "\n",
       "    .dataframe tbody tr th {\n",
       "        vertical-align: top;\n",
       "    }\n",
       "\n",
       "    .dataframe thead th {\n",
       "        text-align: right;\n",
       "    }\n",
       "</style>\n",
       "<table border=\"1\" class=\"dataframe\">\n",
       "  <thead>\n",
       "    <tr style=\"text-align: right;\">\n",
       "      <th></th>\n",
       "      <th>PassengerId</th>\n",
       "      <th>Survived</th>\n",
       "      <th>Pclass</th>\n",
       "      <th>Name</th>\n",
       "      <th>Sex</th>\n",
       "      <th>Age</th>\n",
       "      <th>SibSp</th>\n",
       "      <th>Parch</th>\n",
       "      <th>Ticket</th>\n",
       "      <th>Fare</th>\n",
       "      <th>Cabin</th>\n",
       "      <th>Embarked</th>\n",
       "    </tr>\n",
       "  </thead>\n",
       "  <tbody>\n",
       "    <tr>\n",
       "      <th>0</th>\n",
       "      <td>1</td>\n",
       "      <td>0</td>\n",
       "      <td>3</td>\n",
       "      <td>Braund, Mr. Owen Harris</td>\n",
       "      <td>male</td>\n",
       "      <td>22.0</td>\n",
       "      <td>1</td>\n",
       "      <td>0</td>\n",
       "      <td>A/5 21171</td>\n",
       "      <td>7.2500</td>\n",
       "      <td>NaN</td>\n",
       "      <td>S</td>\n",
       "    </tr>\n",
       "    <tr>\n",
       "      <th>1</th>\n",
       "      <td>2</td>\n",
       "      <td>1</td>\n",
       "      <td>1</td>\n",
       "      <td>Cumings, Mrs. John Bradley (Florence Briggs Th...</td>\n",
       "      <td>female</td>\n",
       "      <td>38.0</td>\n",
       "      <td>1</td>\n",
       "      <td>0</td>\n",
       "      <td>PC 17599</td>\n",
       "      <td>71.2833</td>\n",
       "      <td>C85</td>\n",
       "      <td>C</td>\n",
       "    </tr>\n",
       "    <tr>\n",
       "      <th>2</th>\n",
       "      <td>3</td>\n",
       "      <td>1</td>\n",
       "      <td>3</td>\n",
       "      <td>Heikkinen, Miss. Laina</td>\n",
       "      <td>female</td>\n",
       "      <td>26.0</td>\n",
       "      <td>0</td>\n",
       "      <td>0</td>\n",
       "      <td>STON/O2. 3101282</td>\n",
       "      <td>7.9250</td>\n",
       "      <td>NaN</td>\n",
       "      <td>S</td>\n",
       "    </tr>\n",
       "    <tr>\n",
       "      <th>3</th>\n",
       "      <td>4</td>\n",
       "      <td>1</td>\n",
       "      <td>1</td>\n",
       "      <td>Futrelle, Mrs. Jacques Heath (Lily May Peel)</td>\n",
       "      <td>female</td>\n",
       "      <td>35.0</td>\n",
       "      <td>1</td>\n",
       "      <td>0</td>\n",
       "      <td>113803</td>\n",
       "      <td>53.1000</td>\n",
       "      <td>C123</td>\n",
       "      <td>S</td>\n",
       "    </tr>\n",
       "    <tr>\n",
       "      <th>4</th>\n",
       "      <td>5</td>\n",
       "      <td>0</td>\n",
       "      <td>3</td>\n",
       "      <td>Allen, Mr. William Henry</td>\n",
       "      <td>male</td>\n",
       "      <td>35.0</td>\n",
       "      <td>0</td>\n",
       "      <td>0</td>\n",
       "      <td>373450</td>\n",
       "      <td>8.0500</td>\n",
       "      <td>NaN</td>\n",
       "      <td>S</td>\n",
       "    </tr>\n",
       "  </tbody>\n",
       "</table>\n",
       "</div>"
      ],
      "text/plain": [
       "   PassengerId  Survived  Pclass  \\\n",
       "0            1         0       3   \n",
       "1            2         1       1   \n",
       "2            3         1       3   \n",
       "3            4         1       1   \n",
       "4            5         0       3   \n",
       "\n",
       "                                                Name     Sex   Age  SibSp  \\\n",
       "0                            Braund, Mr. Owen Harris    male  22.0      1   \n",
       "1  Cumings, Mrs. John Bradley (Florence Briggs Th...  female  38.0      1   \n",
       "2                             Heikkinen, Miss. Laina  female  26.0      0   \n",
       "3       Futrelle, Mrs. Jacques Heath (Lily May Peel)  female  35.0      1   \n",
       "4                           Allen, Mr. William Henry    male  35.0      0   \n",
       "\n",
       "   Parch            Ticket     Fare Cabin Embarked  \n",
       "0      0         A/5 21171   7.2500   NaN        S  \n",
       "1      0          PC 17599  71.2833   C85        C  \n",
       "2      0  STON/O2. 3101282   7.9250   NaN        S  \n",
       "3      0            113803  53.1000  C123        S  \n",
       "4      0            373450   8.0500   NaN        S  "
      ]
     },
     "execution_count": 65,
     "metadata": {},
     "output_type": "execute_result"
    }
   ],
   "source": [
    "trainingset = pd.read_csv('/home/abhayvashokan/Productivity/Coding/Data Science/Titanic/train.csv')\n",
    "testset     = pd.read_csv('/home/abhayvashokan/Productivity/Coding/Data Science/Titanic/test.csv')\n",
    "trainingset.head()"
   ]
  },
  {
   "cell_type": "code",
   "execution_count": 3,
   "metadata": {},
   "outputs": [
    {
     "data": {
      "text/plain": [
       "PassengerId      0\n",
       "Survived         0\n",
       "Pclass           0\n",
       "Name             0\n",
       "Sex              0\n",
       "Age            177\n",
       "SibSp            0\n",
       "Parch            0\n",
       "Ticket           0\n",
       "Fare             0\n",
       "Cabin          687\n",
       "Embarked         2\n",
       "dtype: int64"
      ]
     },
     "execution_count": 3,
     "metadata": {},
     "output_type": "execute_result"
    }
   ],
   "source": [
    "trainingset.isnull().sum()"
   ]
  },
  {
   "cell_type": "code",
   "execution_count": 4,
   "metadata": {},
   "outputs": [],
   "source": [
    "trainingset.dropna(subset = ['Embarked'], inplace = True)"
   ]
  },
  {
   "cell_type": "code",
   "execution_count": 5,
   "metadata": {},
   "outputs": [
    {
     "data": {
      "text/plain": [
       "<matplotlib.axes._subplots.AxesSubplot at 0x7ff689828780>"
      ]
     },
     "execution_count": 5,
     "metadata": {},
     "output_type": "execute_result"
    },
    {
     "data": {
      "image/png": "[encoded data removed]",
      "text/plain": [
       "<Figure size 432x288 with 2 Axes>"
      ]
     },
     "metadata": {
      "needs_background": "light"
     },
     "output_type": "display_data"
    }
   ],
   "source": [
    "sns.heatmap(trainingset.corr(), cmap = 'Blues')"
   ]
  },
  {
   "cell_type": "code",
   "execution_count": 6,
   "metadata": {},
   "outputs": [
    {
     "data": {
      "text/plain": [
       "<matplotlib.axes._subplots.AxesSubplot at 0x7ff687432278>"
      ]
     },
     "execution_count": 6,
     "metadata": {},
     "output_type": "execute_result"
    },
    {
     "data": {
      "image/png": "[encoded data removed]",
      "text/plain": [
       "<Figure size 432x288 with 1 Axes>"
      ]
     },
     "metadata": {
      "needs_background": "light"
     },
     "output_type": "display_data"
    }
   ],
   "source": [
    "sns.countplot('Pclass', hue = 'Survived', data = trainingset)"
   ]
  },
  {
   "cell_type": "code",
   "execution_count": 16,
   "metadata": {},
   "outputs": [
    {
     "data": {
      "text/html": [
       "<div>\n",
       "<style scoped>\n",
       "    .dataframe tbody tr th:only-of-type {\n",
       "        vertical-align: middle;\n",
       "    }\n",
       "\n",
       "    .dataframe tbody tr th {\n",
       "        vertical-align: top;\n",
       "    }\n",
       "\n",
       "    .dataframe thead th {\n",
       "        text-align: right;\n",
       "    }\n",
       "</style>\n",
       "<table border=\"1\" class=\"dataframe\">\n",
       "  <thead>\n",
       "    <tr style=\"text-align: right;\">\n",
       "      <th></th>\n",
       "      <th>PassengerId</th>\n",
       "      <th>Pclass</th>\n",
       "      <th>Name</th>\n",
       "      <th>Sex</th>\n",
       "      <th>Age</th>\n",
       "      <th>SibSp</th>\n",
       "      <th>Parch</th>\n",
       "      <th>Ticket</th>\n",
       "      <th>Fare</th>\n",
       "      <th>Cabin</th>\n",
       "      <th>Embarked</th>\n",
       "    </tr>\n",
       "  </thead>\n",
       "  <tbody>\n",
       "    <tr>\n",
       "      <th>0</th>\n",
       "      <td>892</td>\n",
       "      <td>3</td>\n",
       "      <td>Kelly, Mr. James</td>\n",
       "      <td>male</td>\n",
       "      <td>34.5</td>\n",
       "      <td>0</td>\n",
       "      <td>0</td>\n",
       "      <td>330911</td>\n",
       "      <td>7.8292</td>\n",
       "      <td>NaN</td>\n",
       "      <td>Q</td>\n",
       "    </tr>\n",
       "    <tr>\n",
       "      <th>1</th>\n",
       "      <td>893</td>\n",
       "      <td>3</td>\n",
       "      <td>Wilkes, Mrs. James (Ellen Needs)</td>\n",
       "      <td>female</td>\n",
       "      <td>47.0</td>\n",
       "      <td>1</td>\n",
       "      <td>0</td>\n",
       "      <td>363272</td>\n",
       "      <td>7.0000</td>\n",
       "      <td>NaN</td>\n",
       "      <td>S</td>\n",
       "    </tr>\n",
       "    <tr>\n",
       "      <th>2</th>\n",
       "      <td>894</td>\n",
       "      <td>2</td>\n",
       "      <td>Myles, Mr. Thomas Francis</td>\n",
       "      <td>male</td>\n",
       "      <td>62.0</td>\n",
       "      <td>0</td>\n",
       "      <td>0</td>\n",
       "      <td>240276</td>\n",
       "      <td>9.6875</td>\n",
       "      <td>NaN</td>\n",
       "      <td>Q</td>\n",
       "    </tr>\n",
       "    <tr>\n",
       "      <th>3</th>\n",
       "      <td>895</td>\n",
       "      <td>3</td>\n",
       "      <td>Wirz, Mr. Albert</td>\n",
       "      <td>male</td>\n",
       "      <td>27.0</td>\n",
       "      <td>0</td>\n",
       "      <td>0</td>\n",
       "      <td>315154</td>\n",
       "      <td>8.6625</td>\n",
       "      <td>NaN</td>\n",
       "      <td>S</td>\n",
       "    </tr>\n",
       "    <tr>\n",
       "      <th>4</th>\n",
       "      <td>896</td>\n",
       "      <td>3</td>\n",
       "      <td>Hirvonen, Mrs. Alexander (Helga E Lindqvist)</td>\n",
       "      <td>female</td>\n",
       "      <td>22.0</td>\n",
       "      <td>1</td>\n",
       "      <td>1</td>\n",
       "      <td>3101298</td>\n",
       "      <td>12.2875</td>\n",
       "      <td>NaN</td>\n",
       "      <td>S</td>\n",
       "    </tr>\n",
       "  </tbody>\n",
       "</table>\n",
       "</div>"
      ],
      "text/plain": [
       "   PassengerId  Pclass                                          Name     Sex  \\\n",
       "0          892       3                              Kelly, Mr. James    male   \n",
       "1          893       3              Wilkes, Mrs. James (Ellen Needs)  female   \n",
       "2          894       2                     Myles, Mr. Thomas Francis    male   \n",
       "3          895       3                              Wirz, Mr. Albert    male   \n",
       "4          896       3  Hirvonen, Mrs. Alexander (Helga E Lindqvist)  female   \n",
       "\n",
       "    Age  SibSp  Parch   Ticket     Fare Cabin Embarked  \n",
       "0  34.5      0      0   330911   7.8292   NaN        Q  \n",
       "1  47.0      1      0   363272   7.0000   NaN        S  \n",
       "2  62.0      0      0   240276   9.6875   NaN        Q  \n",
       "3  27.0      0      0   315154   8.6625   NaN        S  \n",
       "4  22.0      1      1  3101298  12.2875   NaN        S  "
      ]
     },
     "execution_count": 16,
     "metadata": {},
     "output_type": "execute_result"
    }
   ],
   "source": [
    "testset.head()"
   ]
  },
  {
   "cell_type": "code",
   "execution_count": 20,
   "metadata": {},
   "outputs": [
    {
     "data": {
      "text/html": [
       "<div>\n",
       "<style scoped>\n",
       "    .dataframe tbody tr th:only-of-type {\n",
       "        vertical-align: middle;\n",
       "    }\n",
       "\n",
       "    .dataframe tbody tr th {\n",
       "        vertical-align: top;\n",
       "    }\n",
       "\n",
       "    .dataframe thead th {\n",
       "        text-align: right;\n",
       "    }\n",
       "</style>\n",
       "<table border=\"1\" class=\"dataframe\">\n",
       "  <thead>\n",
       "    <tr style=\"text-align: right;\">\n",
       "      <th></th>\n",
       "      <th>Survived</th>\n",
       "    </tr>\n",
       "    <tr>\n",
       "      <th>Sex</th>\n",
       "      <th></th>\n",
       "    </tr>\n",
       "  </thead>\n",
       "  <tbody>\n",
       "    <tr>\n",
       "      <th>female</th>\n",
       "      <td>0.740385</td>\n",
       "    </tr>\n",
       "    <tr>\n",
       "      <th>male</th>\n",
       "      <td>0.188908</td>\n",
       "    </tr>\n",
       "  </tbody>\n",
       "</table>\n",
       "</div>"
      ],
      "text/plain": [
       "        Survived\n",
       "Sex             \n",
       "female  0.740385\n",
       "male    0.188908"
      ]
     },
     "execution_count": 20,
     "metadata": {},
     "output_type": "execute_result"
    }
   ],
   "source": [
    "trainingset[['Sex', 'Survived']].groupby(['Sex']).mean()"
   ]
  },
  {
   "cell_type": "code",
   "execution_count": 21,
   "metadata": {},
   "outputs": [
    {
     "data": {
      "text/html": [
       "<div>\n",
       "<style scoped>\n",
       "    .dataframe tbody tr th:only-of-type {\n",
       "        vertical-align: middle;\n",
       "    }\n",
       "\n",
       "    .dataframe tbody tr th {\n",
       "        vertical-align: top;\n",
       "    }\n",
       "\n",
       "    .dataframe thead th {\n",
       "        text-align: right;\n",
       "    }\n",
       "</style>\n",
       "<table border=\"1\" class=\"dataframe\">\n",
       "  <thead>\n",
       "    <tr style=\"text-align: right;\">\n",
       "      <th></th>\n",
       "      <th>Survived</th>\n",
       "    </tr>\n",
       "    <tr>\n",
       "      <th>Pclass</th>\n",
       "      <th></th>\n",
       "    </tr>\n",
       "  </thead>\n",
       "  <tbody>\n",
       "    <tr>\n",
       "      <th>1</th>\n",
       "      <td>0.626168</td>\n",
       "    </tr>\n",
       "    <tr>\n",
       "      <th>2</th>\n",
       "      <td>0.472826</td>\n",
       "    </tr>\n",
       "    <tr>\n",
       "      <th>3</th>\n",
       "      <td>0.242363</td>\n",
       "    </tr>\n",
       "  </tbody>\n",
       "</table>\n",
       "</div>"
      ],
      "text/plain": [
       "        Survived\n",
       "Pclass          \n",
       "1       0.626168\n",
       "2       0.472826\n",
       "3       0.242363"
      ]
     },
     "execution_count": 21,
     "metadata": {},
     "output_type": "execute_result"
    }
   ],
   "source": [
    "trainingset[['Pclass', 'Survived']].groupby(['Pclass']).mean()"
   ]
  },
  {
   "cell_type": "code",
   "execution_count": 69,
   "metadata": {},
   "outputs": [
    {
     "data": {
      "text/plain": [
       "(891, 4)"
      ]
     },
     "execution_count": 69,
     "metadata": {},
     "output_type": "execute_result"
    }
   ],
   "source": [
    "cat_data = pd.get_dummies(trainingset.iloc[:, [2, 4, 11]], drop_first = True)\n",
    "cat_data.values.shape"
   ]
  },
  {
   "cell_type": "code",
   "execution_count": 54,
   "metadata": {},
   "outputs": [],
   "source": [
    "X = cat_data.values\n",
    "y = trainingset.Survived.values"
   ]
  },
  {
   "cell_type": "code",
   "execution_count": 55,
   "metadata": {},
   "outputs": [],
   "source": [
    "from sklearn.model_selection import train_test_split\n",
    "X_train, X_test, y_train, y_test = train_test_split(X, y, test_size = 0.2)"
   ]
  },
  {
   "cell_type": "code",
   "execution_count": 57,
   "metadata": {},
   "outputs": [
    {
     "data": {
      "text/plain": [
       "0.8033707865168539"
      ]
     },
     "execution_count": 57,
     "metadata": {},
     "output_type": "execute_result"
    }
   ],
   "source": [
    "from sklearn.ensemble import RandomForestClassifier\n",
    "classifier = RandomForestClassifier(criterion = 'entropy').fit(X_train, y_train)\n",
    "classifier.score(X_test, y_test)"
   ]
  },
  {
   "cell_type": "code",
   "execution_count": 72,
   "metadata": {},
   "outputs": [
    {
     "name": "stdout",
     "output_type": "stream",
     "text": [
      "Train on 711 samples, validate on 178 samples\n",
      "Epoch 1/100\n",
      "711/711 [==============================] - 0s 290us/sample - loss: 0.5800 - accuracy: 0.6568 - val_loss: 0.5728 - val_accuracy: 0.7584\n",
      "Epoch 2/100\n",
      "711/711 [==============================] - 0s 53us/sample - loss: 0.5060 - accuracy: 0.7989 - val_loss: 0.5724 - val_accuracy: 0.7584\n",
      "Epoch 3/100\n",
      "711/711 [==============================] - 0s 75us/sample - loss: 0.5121 - accuracy: 0.7932 - val_loss: 0.5323 - val_accuracy: 0.7584\n",
      "Epoch 4/100\n",
      "711/711 [==============================] - 0s 59us/sample - loss: 0.4714 - accuracy: 0.8003 - val_loss: 0.5236 - val_accuracy: 0.7584\n",
      "Epoch 5/100\n",
      "711/711 [==============================] - 0s 78us/sample - loss: 0.4594 - accuracy: 0.8003 - val_loss: 0.5125 - val_accuracy: 0.8034\n",
      "Epoch 6/100\n",
      "711/711 [==============================] - 0s 80us/sample - loss: 0.4497 - accuracy: 0.8003 - val_loss: 0.5115 - val_accuracy: 0.8034\n",
      "Epoch 7/100\n",
      "711/711 [==============================] - 0s 93us/sample - loss: 0.4661 - accuracy: 0.8031 - val_loss: 0.5018 - val_accuracy: 0.8034\n",
      "Epoch 8/100\n",
      "711/711 [==============================] - 0s 88us/sample - loss: 0.4423 - accuracy: 0.8017 - val_loss: 0.5080 - val_accuracy: 0.8034\n",
      "Epoch 9/100\n",
      "711/711 [==============================] - 0s 92us/sample - loss: 0.4416 - accuracy: 0.8017 - val_loss: 0.5042 - val_accuracy: 0.8034\n",
      "Epoch 10/100\n",
      "711/711 [==============================] - 0s 88us/sample - loss: 0.4395 - accuracy: 0.8129 - val_loss: 0.4965 - val_accuracy: 0.8034\n",
      "Epoch 11/100\n",
      "711/711 [==============================] - 0s 70us/sample - loss: 0.4410 - accuracy: 0.8031 - val_loss: 0.5200 - val_accuracy: 0.7697\n",
      "Epoch 12/100\n",
      "711/711 [==============================] - 0s 74us/sample - loss: 0.4346 - accuracy: 0.8045 - val_loss: 0.4954 - val_accuracy: 0.8034\n",
      "Epoch 13/100\n",
      "711/711 [==============================] - 0s 73us/sample - loss: 0.4341 - accuracy: 0.8129 - val_loss: 0.5133 - val_accuracy: 0.8034\n",
      "Epoch 14/100\n",
      "711/711 [==============================] - 0s 79us/sample - loss: 0.4347 - accuracy: 0.8129 - val_loss: 0.4982 - val_accuracy: 0.8034\n",
      "Epoch 15/100\n",
      "711/711 [==============================] - 0s 99us/sample - loss: 0.4353 - accuracy: 0.8129 - val_loss: 0.4946 - val_accuracy: 0.8034\n",
      "Epoch 16/100\n",
      "711/711 [==============================] - 0s 112us/sample - loss: 0.4470 - accuracy: 0.8073 - val_loss: 0.5079 - val_accuracy: 0.7584\n",
      "Epoch 17/100\n",
      "711/711 [==============================] - 0s 116us/sample - loss: 0.4431 - accuracy: 0.8129 - val_loss: 0.4983 - val_accuracy: 0.8034\n",
      "Epoch 18/100\n",
      "711/711 [==============================] - 0s 82us/sample - loss: 0.4353 - accuracy: 0.8101 - val_loss: 0.5054 - val_accuracy: 0.8034\n",
      "Epoch 19/100\n",
      "711/711 [==============================] - 0s 57us/sample - loss: 0.4306 - accuracy: 0.8129 - val_loss: 0.4986 - val_accuracy: 0.8034\n",
      "Epoch 20/100\n",
      "711/711 [==============================] - 0s 69us/sample - loss: 0.4338 - accuracy: 0.8129 - val_loss: 0.4993 - val_accuracy: 0.8034\n",
      "Epoch 21/100\n",
      "711/711 [==============================] - 0s 63us/sample - loss: 0.4379 - accuracy: 0.8129 - val_loss: 0.4935 - val_accuracy: 0.8034\n",
      "Epoch 22/100\n",
      "711/711 [==============================] - 0s 87us/sample - loss: 0.4328 - accuracy: 0.8003 - val_loss: 0.5077 - val_accuracy: 0.8034\n",
      "Epoch 23/100\n",
      "711/711 [==============================] - 0s 81us/sample - loss: 0.4318 - accuracy: 0.8129 - val_loss: 0.5010 - val_accuracy: 0.8034\n",
      "Epoch 24/100\n",
      "711/711 [==============================] - 0s 74us/sample - loss: 0.4347 - accuracy: 0.8129 - val_loss: 0.4974 - val_accuracy: 0.8034\n",
      "Epoch 25/100\n",
      "711/711 [==============================] - 0s 65us/sample - loss: 0.4311 - accuracy: 0.8129 - val_loss: 0.5058 - val_accuracy: 0.8034\n",
      "Epoch 26/100\n",
      "711/711 [==============================] - 0s 71us/sample - loss: 0.4317 - accuracy: 0.8059 - val_loss: 0.5118 - val_accuracy: 0.8034\n",
      "Epoch 27/100\n",
      "711/711 [==============================] - 0s 60us/sample - loss: 0.4345 - accuracy: 0.8129 - val_loss: 0.5001 - val_accuracy: 0.8034\n",
      "Epoch 28/100\n",
      "711/711 [==============================] - 0s 60us/sample - loss: 0.4340 - accuracy: 0.7961 - val_loss: 0.5065 - val_accuracy: 0.8034\n",
      "Epoch 29/100\n",
      "711/711 [==============================] - 0s 68us/sample - loss: 0.4286 - accuracy: 0.8129 - val_loss: 0.4977 - val_accuracy: 0.8034\n",
      "Epoch 30/100\n",
      "711/711 [==============================] - 0s 89us/sample - loss: 0.4284 - accuracy: 0.8129 - val_loss: 0.5014 - val_accuracy: 0.8034\n",
      "Epoch 31/100\n",
      "711/711 [==============================] - 0s 81us/sample - loss: 0.4309 - accuracy: 0.8101 - val_loss: 0.5128 - val_accuracy: 0.8034\n",
      "Epoch 32/100\n",
      "711/711 [==============================] - 0s 74us/sample - loss: 0.4292 - accuracy: 0.8129 - val_loss: 0.5021 - val_accuracy: 0.8034\n",
      "Epoch 33/100\n",
      "711/711 [==============================] - 0s 61us/sample - loss: 0.4345 - accuracy: 0.8129 - val_loss: 0.5044 - val_accuracy: 0.8034\n",
      "Epoch 34/100\n",
      "711/711 [==============================] - 0s 62us/sample - loss: 0.4407 - accuracy: 0.8073 - val_loss: 0.5087 - val_accuracy: 0.8034\n",
      "Epoch 35/100\n",
      "711/711 [==============================] - 0s 66us/sample - loss: 0.4317 - accuracy: 0.8129 - val_loss: 0.5009 - val_accuracy: 0.8034\n",
      "Epoch 36/100\n",
      "711/711 [==============================] - 0s 78us/sample - loss: 0.4292 - accuracy: 0.8129 - val_loss: 0.5092 - val_accuracy: 0.8034\n",
      "Epoch 37/100\n",
      "711/711 [==============================] - 0s 60us/sample - loss: 0.4382 - accuracy: 0.8129 - val_loss: 0.5018 - val_accuracy: 0.8034\n",
      "Epoch 38/100\n",
      "711/711 [==============================] - 0s 73us/sample - loss: 0.4325 - accuracy: 0.8101 - val_loss: 0.5092 - val_accuracy: 0.8034\n",
      "Epoch 39/100\n",
      "711/711 [==============================] - 0s 51us/sample - loss: 0.4359 - accuracy: 0.8059 - val_loss: 0.5078 - val_accuracy: 0.8034\n",
      "Epoch 40/100\n",
      "711/711 [==============================] - 0s 55us/sample - loss: 0.4322 - accuracy: 0.8129 - val_loss: 0.5059 - val_accuracy: 0.8034\n",
      "Epoch 41/100\n",
      "711/711 [==============================] - 0s 62us/sample - loss: 0.4297 - accuracy: 0.8129 - val_loss: 0.5058 - val_accuracy: 0.8034\n",
      "Epoch 42/100\n",
      "711/711 [==============================] - 0s 55us/sample - loss: 0.4289 - accuracy: 0.8129 - val_loss: 0.5012 - val_accuracy: 0.8034\n",
      "Epoch 43/100\n",
      "711/711 [==============================] - 0s 52us/sample - loss: 0.4380 - accuracy: 0.8045 - val_loss: 0.5087 - val_accuracy: 0.8034\n",
      "Epoch 44/100\n",
      "711/711 [==============================] - 0s 54us/sample - loss: 0.4326 - accuracy: 0.8003 - val_loss: 0.5096 - val_accuracy: 0.8034\n",
      "Epoch 45/100\n",
      "711/711 [==============================] - 0s 54us/sample - loss: 0.4334 - accuracy: 0.8129 - val_loss: 0.5010 - val_accuracy: 0.8034\n",
      "Epoch 46/100\n",
      "711/711 [==============================] - 0s 50us/sample - loss: 0.4331 - accuracy: 0.8059 - val_loss: 0.5032 - val_accuracy: 0.7584\n",
      "Epoch 47/100\n",
      "711/711 [==============================] - 0s 58us/sample - loss: 0.4268 - accuracy: 0.8073 - val_loss: 0.5120 - val_accuracy: 0.8034\n",
      "Epoch 48/100\n",
      "711/711 [==============================] - 0s 67us/sample - loss: 0.4287 - accuracy: 0.8129 - val_loss: 0.5033 - val_accuracy: 0.8034\n",
      "Epoch 49/100\n",
      "711/711 [==============================] - 0s 54us/sample - loss: 0.4290 - accuracy: 0.8129 - val_loss: 0.5090 - val_accuracy: 0.8034\n",
      "Epoch 50/100\n",
      "711/711 [==============================] - 0s 53us/sample - loss: 0.4267 - accuracy: 0.8129 - val_loss: 0.5031 - val_accuracy: 0.8034\n",
      "Epoch 51/100\n",
      "711/711 [==============================] - 0s 55us/sample - loss: 0.4281 - accuracy: 0.8129 - val_loss: 0.5052 - val_accuracy: 0.8034\n",
      "Epoch 52/100\n",
      "711/711 [==============================] - 0s 63us/sample - loss: 0.4276 - accuracy: 0.8129 - val_loss: 0.5070 - val_accuracy: 0.8034\n",
      "Epoch 53/100\n",
      "711/711 [==============================] - 0s 54us/sample - loss: 0.4423 - accuracy: 0.8059 - val_loss: 0.5078 - val_accuracy: 0.8034\n",
      "Epoch 54/100\n",
      "711/711 [==============================] - 0s 57us/sample - loss: 0.4355 - accuracy: 0.8017 - val_loss: 0.5094 - val_accuracy: 0.8034\n",
      "Epoch 55/100\n",
      "711/711 [==============================] - 0s 58us/sample - loss: 0.4297 - accuracy: 0.8129 - val_loss: 0.5067 - val_accuracy: 0.8034\n",
      "Epoch 56/100\n"
     ]
    },
    {
     "name": "stdout",
     "output_type": "stream",
     "text": [
      "711/711 [==============================] - 0s 59us/sample - loss: 0.4366 - accuracy: 0.7975 - val_loss: 0.5058 - val_accuracy: 0.8034\n",
      "Epoch 57/100\n",
      "711/711 [==============================] - 0s 57us/sample - loss: 0.4271 - accuracy: 0.8129 - val_loss: 0.5125 - val_accuracy: 0.8034\n",
      "Epoch 58/100\n",
      "711/711 [==============================] - 0s 50us/sample - loss: 0.4286 - accuracy: 0.8129 - val_loss: 0.5081 - val_accuracy: 0.8034\n",
      "Epoch 59/100\n",
      "711/711 [==============================] - 0s 49us/sample - loss: 0.4268 - accuracy: 0.8129 - val_loss: 0.5111 - val_accuracy: 0.8034\n",
      "Epoch 60/100\n",
      "711/711 [==============================] - 0s 53us/sample - loss: 0.4319 - accuracy: 0.8129 - val_loss: 0.5121 - val_accuracy: 0.8034\n",
      "Epoch 61/100\n",
      "711/711 [==============================] - 0s 52us/sample - loss: 0.4292 - accuracy: 0.8129 - val_loss: 0.5081 - val_accuracy: 0.8034\n",
      "Epoch 62/100\n",
      "711/711 [==============================] - 0s 49us/sample - loss: 0.4287 - accuracy: 0.8129 - val_loss: 0.5053 - val_accuracy: 0.8034\n",
      "Epoch 63/100\n",
      "711/711 [==============================] - 0s 49us/sample - loss: 0.4299 - accuracy: 0.8129 - val_loss: 0.5122 - val_accuracy: 0.8034\n",
      "Epoch 64/100\n",
      "711/711 [==============================] - 0s 48us/sample - loss: 0.4298 - accuracy: 0.8129 - val_loss: 0.5093 - val_accuracy: 0.8034\n",
      "Epoch 65/100\n",
      "711/711 [==============================] - 0s 51us/sample - loss: 0.4270 - accuracy: 0.8129 - val_loss: 0.5084 - val_accuracy: 0.8034\n",
      "Epoch 66/100\n",
      "711/711 [==============================] - 0s 51us/sample - loss: 0.4256 - accuracy: 0.8129 - val_loss: 0.5150 - val_accuracy: 0.8034\n",
      "Epoch 67/100\n",
      "711/711 [==============================] - 0s 49us/sample - loss: 0.4340 - accuracy: 0.8073 - val_loss: 0.5092 - val_accuracy: 0.8034\n",
      "Epoch 68/100\n",
      "711/711 [==============================] - 0s 49us/sample - loss: 0.4322 - accuracy: 0.8129 - val_loss: 0.5098 - val_accuracy: 0.8034\n",
      "Epoch 69/100\n",
      "711/711 [==============================] - 0s 50us/sample - loss: 0.4266 - accuracy: 0.8129 - val_loss: 0.5116 - val_accuracy: 0.8034\n",
      "Epoch 70/100\n",
      "711/711 [==============================] - 0s 57us/sample - loss: 0.4261 - accuracy: 0.8129 - val_loss: 0.5062 - val_accuracy: 0.8034\n",
      "Epoch 71/100\n",
      "711/711 [==============================] - 0s 55us/sample - loss: 0.4268 - accuracy: 0.8129 - val_loss: 0.5096 - val_accuracy: 0.8034\n",
      "Epoch 72/100\n",
      "711/711 [==============================] - 0s 64us/sample - loss: 0.4284 - accuracy: 0.8129 - val_loss: 0.5116 - val_accuracy: 0.8034\n",
      "Epoch 73/100\n",
      "711/711 [==============================] - 0s 65us/sample - loss: 0.4279 - accuracy: 0.8129 - val_loss: 0.5115 - val_accuracy: 0.8034\n",
      "Epoch 74/100\n",
      "711/711 [==============================] - 0s 64us/sample - loss: 0.4273 - accuracy: 0.8129 - val_loss: 0.5104 - val_accuracy: 0.8034\n",
      "Epoch 75/100\n",
      "711/711 [==============================] - 0s 62us/sample - loss: 0.4301 - accuracy: 0.8129 - val_loss: 0.5198 - val_accuracy: 0.8034\n",
      "Epoch 76/100\n",
      "711/711 [==============================] - 0s 62us/sample - loss: 0.4292 - accuracy: 0.8129 - val_loss: 0.5096 - val_accuracy: 0.8034\n",
      "Epoch 77/100\n",
      "711/711 [==============================] - 0s 60us/sample - loss: 0.4272 - accuracy: 0.8129 - val_loss: 0.5134 - val_accuracy: 0.8034\n",
      "Epoch 78/100\n",
      "711/711 [==============================] - 0s 51us/sample - loss: 0.4269 - accuracy: 0.8129 - val_loss: 0.5054 - val_accuracy: 0.8034\n",
      "Epoch 79/100\n",
      "711/711 [==============================] - 0s 53us/sample - loss: 0.4286 - accuracy: 0.8129 - val_loss: 0.5101 - val_accuracy: 0.8034\n",
      "Epoch 80/100\n",
      "711/711 [==============================] - 0s 51us/sample - loss: 0.4269 - accuracy: 0.8129 - val_loss: 0.5102 - val_accuracy: 0.8034\n",
      "Epoch 81/100\n",
      "711/711 [==============================] - 0s 49us/sample - loss: 0.4332 - accuracy: 0.8129 - val_loss: 0.5114 - val_accuracy: 0.8034\n",
      "Epoch 82/100\n",
      "711/711 [==============================] - 0s 51us/sample - loss: 0.4318 - accuracy: 0.8129 - val_loss: 0.5083 - val_accuracy: 0.8034\n",
      "Epoch 83/100\n",
      "711/711 [==============================] - 0s 49us/sample - loss: 0.4292 - accuracy: 0.8059 - val_loss: 0.5105 - val_accuracy: 0.8034\n",
      "Epoch 84/100\n",
      "711/711 [==============================] - 0s 52us/sample - loss: 0.4294 - accuracy: 0.8003 - val_loss: 0.5175 - val_accuracy: 0.8034\n",
      "Epoch 85/100\n",
      "711/711 [==============================] - 0s 59us/sample - loss: 0.4278 - accuracy: 0.8129 - val_loss: 0.5129 - val_accuracy: 0.8034\n",
      "Epoch 86/100\n",
      "711/711 [==============================] - 0s 67us/sample - loss: 0.4261 - accuracy: 0.8129 - val_loss: 0.5192 - val_accuracy: 0.8034\n",
      "Epoch 87/100\n",
      "711/711 [==============================] - 0s 63us/sample - loss: 0.4294 - accuracy: 0.8129 - val_loss: 0.5111 - val_accuracy: 0.8034\n",
      "Epoch 88/100\n",
      "711/711 [==============================] - 0s 70us/sample - loss: 0.4294 - accuracy: 0.8129 - val_loss: 0.5158 - val_accuracy: 0.8034\n",
      "Epoch 89/100\n",
      "711/711 [==============================] - 0s 64us/sample - loss: 0.4266 - accuracy: 0.8129 - val_loss: 0.5178 - val_accuracy: 0.8034\n",
      "Epoch 90/100\n",
      "711/711 [==============================] - 0s 65us/sample - loss: 0.4285 - accuracy: 0.8129 - val_loss: 0.5169 - val_accuracy: 0.8034\n",
      "Epoch 91/100\n",
      "711/711 [==============================] - 0s 66us/sample - loss: 0.4266 - accuracy: 0.8129 - val_loss: 0.5158 - val_accuracy: 0.8034\n",
      "Epoch 92/100\n",
      "711/711 [==============================] - 0s 58us/sample - loss: 0.4285 - accuracy: 0.8129 - val_loss: 0.5184 - val_accuracy: 0.8034\n",
      "Epoch 93/100\n",
      "711/711 [==============================] - 0s 53us/sample - loss: 0.4253 - accuracy: 0.8129 - val_loss: 0.5288 - val_accuracy: 0.8034\n",
      "Epoch 94/100\n",
      "711/711 [==============================] - 0s 52us/sample - loss: 0.4302 - accuracy: 0.8073 - val_loss: 0.5149 - val_accuracy: 0.7584\n",
      "Epoch 95/100\n",
      "711/711 [==============================] - 0s 63us/sample - loss: 0.4291 - accuracy: 0.8059 - val_loss: 0.5257 - val_accuracy: 0.8034\n",
      "Epoch 96/100\n",
      "711/711 [==============================] - 0s 71us/sample - loss: 0.4284 - accuracy: 0.8129 - val_loss: 0.5196 - val_accuracy: 0.8034\n",
      "Epoch 97/100\n",
      "711/711 [==============================] - 0s 69us/sample - loss: 0.4278 - accuracy: 0.8129 - val_loss: 0.5172 - val_accuracy: 0.8034\n",
      "Epoch 98/100\n",
      "711/711 [==============================] - 0s 66us/sample - loss: 0.4277 - accuracy: 0.8129 - val_loss: 0.5165 - val_accuracy: 0.8034\n",
      "Epoch 99/100\n",
      "711/711 [==============================] - 0s 60us/sample - loss: 0.4263 - accuracy: 0.8129 - val_loss: 0.5220 - val_accuracy: 0.8034\n",
      "Epoch 100/100\n",
      "711/711 [==============================] - 0s 58us/sample - loss: 0.4272 - accuracy: 0.8115 - val_loss: 0.5196 - val_accuracy: 0.8034\n"
     ]
    },
    {
     "data": {
      "text/plain": [
       "<tensorflow.python.keras.callbacks.History at 0x7ff648164b00>"
      ]
     },
     "execution_count": 72,
     "metadata": {},
     "output_type": "execute_result"
    }
   ],
   "source": [
    "from tensorflow.keras.models import Sequential\n",
    "from tensorflow.keras.layers import Dense\n",
    "\n",
    "classifier = Sequential()\n",
    "classifier.add(Dense(units = 128, input_dim = 4, activation = 'relu'))\n",
    "classifier.add(Dense(units = 128, input_dim = 4, activation = 'relu'))\n",
    "classifier.add(Dense(units = 128, activation = 'relu'))\n",
    "classifier.add(Dense(units = 2, activation = 'softmax'))\n",
    "\n",
    "classifier.compile(optimizer = 'adam', metrics = ['accuracy'], loss = 'sparse_categorical_crossentropy')\n",
    "\n",
    "classifier.fit(X_train, y_train, epochs = 100, validation_data = (X_test, y_test))"
   ]
  },
  {
   "cell_type": "code",
   "execution_count": null,
   "metadata": {},
   "outputs": [],
   "source": []
  }
 ],
 "metadata": {
  "kernelspec": {
   "display_name": "Python 3",
   "language": "python",
   "name": "python3"
  },
  "language_info": {
   "codemirror_mode": {
    "name": "ipython",
    "version": 3
   },
   "file_extension": ".py",
   "mimetype": "text/x-python",
   "name": "python",
   "nbconvert_exporter": "python",
   "pygments_lexer": "ipython3",
   "version": "3.7.3"
  }
 },
 "nbformat": 4,
 "nbformat_minor": 2
}
